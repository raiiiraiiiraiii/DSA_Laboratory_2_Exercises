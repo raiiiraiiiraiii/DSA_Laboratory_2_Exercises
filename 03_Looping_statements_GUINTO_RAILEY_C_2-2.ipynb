{
 "cells": [
  {
   "cell_type": "markdown",
   "metadata": {},
   "source": [
    "# Now It is time for Laboratory 2 Exercises\n",
    "## Deadline of submission: Oct 6, 2024\n",
    "### jupyter notebook file and kindly include the output of your codes\n",
    "#### Filenane:   03_Looping_statements_yourname_Section.ipynb\n",
    "#### submit your exercise material in   https://docs.google.com/forms/d/e/1FAIpQLSfnKbRNaPdEbCcbf614_S7weBSRJla8YsUC3j__OApM1cMrCA/viewform?usp=pp_url\n"
   ]
  },
  {
   "cell_type": "markdown",
   "metadata": {},
   "source": [
    "## Lab 2 Exercise 1\n",
    "#### A teacher named Mrs. Rivera who loved making math fun for her students. One day, a student named Mia asked how to calculate powers, like (2^7). Mrs. Rivera explained, “Imagine you need to multiply 2 by itself seven times. We can solve this using a python code utilizing  special method called recursion to solve this,” \n",
    "### Can you help the class of Mrs. Rivera by providing the recursive method to calculate powers?"
   ]
  },
  {
   "cell_type": "code",
   "execution_count": 2,
   "metadata": {},
   "outputs": [
    {
     "name": "stdout",
     "output_type": "stream",
     "text": [
      "2^7 = 128\n"
     ]
    }
   ],
   "source": [
    "# Calculation of Powers\n",
    "\n",
    "# Main: Calculating the powers\n",
    "def calculate_powers(base, exponent): \n",
    "    if exponent == 0:\n",
    "        return 1\n",
    "    else:\n",
    "        return base * calculate_powers(base, exponent - 1)\n",
    "\n",
    "# Input the base\n",
    "while True:\n",
    "    try:\n",
    "        input_base = int(input(\"Enter base number: \"))\n",
    "        break\n",
    "    except ValueError:\n",
    "        print(\"Invalid input. Enter an integer.\")\n",
    "    \n",
    "# Input the exponent\n",
    "while True:\n",
    "    try:\n",
    "        input_exponent = int(input(\"Enter exponent: \"))\n",
    "        break\n",
    "    except ValueError:\n",
    "        print(\"Invalid input. Enter an integer.\")\n",
    "\n",
    "powers_result = calculate_powers(input_base, input_exponent)\n",
    "\n",
    "# Display the result\n",
    "print(f\"{input_base}^{input_exponent} = {powers_result}\")"
   ]
  },
  {
   "cell_type": "markdown",
   "metadata": {},
   "source": [
    "## Lab 2 Exercise 2\n",
    "#### compute for the cube of integers. "
   ]
  },
  {
   "cell_type": "raw",
   "metadata": {},
   "source": [
    "Steps:\n",
    "1. Input the size of the array.\n",
    "2. input the elements of the array\n",
    "3. display the cube of each element\n",
    "\n",
    "Sample output\n",
    "\n",
    "Enter the size of the array : 3\n",
    "Enter the elements separated by space: 3 10 20\n",
    "27\n",
    "1000\n",
    "8000"
   ]
  },
  {
   "cell_type": "markdown",
   "metadata": {},
   "source": [
    "## Lab 2 Exercise 3\n",
    "#### Generate a hollow square based on the + integer input side length n."
   ]
  },
  {
   "cell_type": "raw",
   "metadata": {},
   "source": [
    "Sample output\n",
    "\n",
    "Enter the side length of the square: 6\n",
    "xxxxxx\n",
    "x    x\n",
    "x    x\n",
    "x    x\n",
    "x    x\n",
    "xxxxxx"
   ]
  },
  {
   "cell_type": "markdown",
   "metadata": {},
   "source": [
    "### Lab 2 Exercise 4\n",
    "#### Generate an inverted right triangle of height n."
   ]
  },
  {
   "cell_type": "raw",
   "metadata": {},
   "source": [
    "Sample output\n",
    "\n",
    "Enter the height of the triangle: 6\n",
    "******\n",
    "*****\n",
    "****\n",
    "***\n",
    "**\n",
    "*"
   ]
  }
 ],
 "metadata": {
  "colab": {
   "private_outputs": true,
   "provenance": []
  },
  "kernelspec": {
   "display_name": "Python 3 (ipykernel)",
   "language": "python",
   "name": "python3"
  },
  "language_info": {
   "codemirror_mode": {
    "name": "ipython",
    "version": 3
   },
   "file_extension": ".py",
   "mimetype": "text/x-python",
   "name": "python",
   "nbconvert_exporter": "python",
   "pygments_lexer": "ipython3",
   "version": "3.11.9"
  }
 },
 "nbformat": 4,
 "nbformat_minor": 1
}
