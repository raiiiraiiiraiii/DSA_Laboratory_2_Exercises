{
 "cells": [
  {
   "cell_type": "markdown",
   "metadata": {},
   "source": [
    "# Now It is time for Laboratory 2 Exercises\n",
    "## Deadline of submission: Oct 6, 2024\n",
    "### jupyter notebook file and kindly include the output of your codes\n",
    "#### Filenane:   03_Looping_statements_yourname_Section.ipynb\n",
    "#### submit your exercise material in   https://docs.google.com/forms/d/e/1FAIpQLSfnKbRNaPdEbCcbf614_S7weBSRJla8YsUC3j__OApM1cMrCA/viewform?usp=pp_url\n"
   ]
  },
  {
   "cell_type": "markdown",
   "metadata": {},
   "source": [
    "## Lab 2 Exercise 1\n",
    "#### A teacher named Mrs. Rivera who loved making math fun for her students. One day, a student named Mia asked how to calculate powers, like (2^7). Mrs. Rivera explained, “Imagine you need to multiply 2 by itself seven times. We can solve this using a python code utilizing  special method called recursion to solve this,” \n",
    "### Can you help the class of Mrs. Rivera by providing the recursive method to calculate powers?"
   ]
  },
  {
   "cell_type": "code",
   "execution_count": 2,
   "metadata": {},
   "outputs": [
    {
     "name": "stdout",
     "output_type": "stream",
     "text": [
      "2^7 = 128\n"
     ]
    }
   ],
   "source": [
    "# Calculation of Powers\n",
    "\n",
    "# Main: Calculating the powers\n",
    "def calculate_powers(base, exponent): \n",
    "    if exponent == 0:\n",
    "        return 1\n",
    "    else:\n",
    "        return base * calculate_powers(base, exponent - 1)\n",
    "\n",
    "# Input the base\n",
    "while True:\n",
    "    try:\n",
    "        input_base = int(input(\"Enter base number: \"))\n",
    "        break\n",
    "    except ValueError:\n",
    "        print(\"Invalid input. Enter an integer.\")\n",
    "    \n",
    "# Input the exponent\n",
    "while True:\n",
    "    try:\n",
    "        input_exponent = int(input(\"Enter exponent: \"))\n",
    "        break\n",
    "    except ValueError:\n",
    "        print(\"Invalid input. Enter an integer.\")\n",
    "\n",
    "powers_result = calculate_powers(input_base, input_exponent)\n",
    "\n",
    "# Display the result\n",
    "print(f\"{input_base}^{input_exponent} = {powers_result}\")"
   ]
  },
  {
   "cell_type": "markdown",
   "metadata": {},
   "source": [
    "Github repository link: https://github.com/raiiiraiiiraiii/DSA_Laboratory_2_Exercises/blob/main/Lab2_Ex1_Powers.py"
   ]
  },
  {
   "cell_type": "markdown",
   "metadata": {},
   "source": [
    "## Lab 2 Exercise 2\n",
    "#### compute for the cube of integers. "
   ]
  },
  {
   "cell_type": "code",
   "execution_count": 3,
   "metadata": {},
   "outputs": [
    {
     "name": "stdout",
     "output_type": "stream",
     "text": [
      "27\n",
      "1000\n",
      "8000\n"
     ]
    }
   ],
   "source": [
    "# Cube of Integers\n",
    "\n",
    "# Ask user how many elements in the array\n",
    "while True:\n",
    "    try:\n",
    "        size_array = int(input(\"Enter the size of the array: \"))\n",
    "        print\n",
    "        break\n",
    "    except ValueError:\n",
    "        print(\"Invalid input. Enter an integer.\")\n",
    "\n",
    "# Ask user to input the elements (separated by space)\n",
    "while True:\n",
    "\n",
    "    input_elements_string = str(input(f\"Enter {size_array} elements separated by space: \"))\n",
    "\n",
    "    input_elements_int = input_elements_string.split()\n",
    "\n",
    "    if len(input_elements_int) == size_array:\n",
    "        integer_elements = [int(elements) for elements in input_elements_int]\n",
    "    \n",
    "        for number in integer_elements:\n",
    "            print(number ** 3)\n",
    "        break\n",
    "    else:\n",
    "        print(f\"\\nERROR: Enter exactly {size_array} elements.\")\n"
   ]
  },
  {
   "cell_type": "markdown",
   "metadata": {},
   "source": [
    "Github repository link: https://github.com/raiiiraiiiraiii/DSA_Laboratory_2_Exercises/blob/main/Lab2_Ex2_Cube_Int.py"
   ]
  },
  {
   "cell_type": "markdown",
   "metadata": {},
   "source": [
    "## Lab 2 Exercise 3\n",
    "#### Generate a hollow square based on the + integer input side length n."
   ]
  },
  {
   "cell_type": "code",
   "execution_count": 4,
   "metadata": {},
   "outputs": [
    {
     "name": "stdout",
     "output_type": "stream",
     "text": [
      "xxxxx\n",
      "x   x\n",
      "x   x\n",
      "x   x\n",
      "xxxxx\n"
     ]
    }
   ],
   "source": [
    "# Hollow Square\n",
    "\n",
    "# Prompt user to input side lenght\n",
    "while True:\n",
    "    try:\n",
    "        length = int(input(\"Enter the side length of the square: \"))\n",
    "        break\n",
    "    except ValueError:\n",
    "        print(\"Invalid input. Enter an integer\")\n",
    "\n",
    "# Main function\n",
    "for i in range (length):\n",
    "    if i == 0 or i == (length-1):\n",
    "        print('x' * length)\n",
    "    else:\n",
    "        print('x' + ' ' * (length-2) + 'x')"
   ]
  },
  {
   "cell_type": "markdown",
   "metadata": {},
   "source": [
    "Github repository link: https://github.com/raiiiraiiiraiii/DSA_Laboratory_2_Exercises/blob/main/Lab2_Ex3_Hollow_Square.py"
   ]
  },
  {
   "cell_type": "markdown",
   "metadata": {},
   "source": [
    "### Lab 2 Exercise 4\n",
    "#### Generate an inverted right triangle of height n."
   ]
  },
  {
   "cell_type": "code",
   "execution_count": 5,
   "metadata": {},
   "outputs": [
    {
     "name": "stdout",
     "output_type": "stream",
     "text": [
      "******\n",
      "*****\n",
      "****\n",
      "***\n",
      "**\n",
      "*\n"
     ]
    }
   ],
   "source": [
    "# Inverted Triangle\n",
    "\n",
    "# Prompt user to input inverted triangle height\n",
    "while True:\n",
    "    try:\n",
    "        height = int(input(\"\\nEnter the height of the triangle: \"))\n",
    "        break\n",
    "    except ValueError:\n",
    "        print(\"Invalid input. Enter an integer.\")\n",
    "\n",
    "# Main program\n",
    "for i in range(height, 0, -1):\n",
    "    print('*' * i)"
   ]
  },
  {
   "cell_type": "markdown",
   "metadata": {},
   "source": [
    "Github repository link: https://github.com/raiiiraiiiraiii/DSA_Laboratory_2_Exercises/blob/main/Lab2_Ex4_Inverted_Triangle.py"
   ]
  }
 ],
 "metadata": {
  "colab": {
   "private_outputs": true,
   "provenance": []
  },
  "kernelspec": {
   "display_name": "Python 3 (ipykernel)",
   "language": "python",
   "name": "python3"
  },
  "language_info": {
   "codemirror_mode": {
    "name": "ipython",
    "version": 3
   },
   "file_extension": ".py",
   "mimetype": "text/x-python",
   "name": "python",
   "nbconvert_exporter": "python",
   "pygments_lexer": "ipython3",
   "version": "3.11.9"
  }
 },
 "nbformat": 4,
 "nbformat_minor": 1
}
